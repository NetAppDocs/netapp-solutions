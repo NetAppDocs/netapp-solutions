{
 "cells": [
  {
   "cell_type": "markdown",
   "id": "6981c4d2-e837-4b23-8a11-4555f82799f9",
   "metadata": {},
   "source": [
    "# Setup configurations\n"
   ]
  },
  {
   "cell_type": "code",
   "execution_count": null,
   "id": "e584ea6c-ae3e-478d-b74a-8719ba27f32a",
   "metadata": {},
   "outputs": [],
   "source": [
    "# -------- Manual configurations --------\n",
    "seed: int = 77                                                          # Random seed\n",
    "bucket_name: str = 'fsxn-ontap'                                         # The bucket name in ONTAP\n",
    "aws_access_key_id: str = 'PB7XA31OKDPKTEXMK0S2'                         # Please get this credential from ONTAP\n",
    "aws_secret_access_key: str = 'N06DwX7OgBnb5X569dr10JicACYuHfDy3_hmsn7M' # Please get this credential from ONTAP\n",
    "fsx_endpoint_ip: str = '172.31.255.251'                                 # Please get this IP address from FSXN\n",
    "# -------- Manual configurations --------\n"
   ]
  },
  {
   "cell_type": "markdown",
   "id": "12cbc0c1-60ba-4c28-acec-31e0752dd0c0",
   "metadata": {},
   "source": [
    "# Workaround\n"
   ]
  },
  {
   "cell_type": "markdown",
   "id": "e36d8bba-4c23-4c73-b6cd-e08e33faef0c",
   "metadata": {},
   "source": [
    "## Permission patch\n"
   ]
  },
  {
   "cell_type": "code",
   "execution_count": null,
   "id": "25373a58-630d-4249-b43f-2889be1d0b1c",
   "metadata": {},
   "outputs": [],
   "source": [
    "!mkdir -p vol1\n",
    "!sudo mount -t nfs $fsx_endpoint_ip:/vol1 /home/ec2-user/SageMaker/vol1\n",
    "!sudo chmod 777 /home/ec2-user/SageMaker/vol1\n"
   ]
  },
  {
   "cell_type": "markdown",
   "id": "3c0683ce-2b70-41f2-bce9-51a6b62b3eb6",
   "metadata": {},
   "source": [
    "## Authentication for FSxN as a Private S3 Bucket\n"
   ]
  },
  {
   "cell_type": "code",
   "execution_count": null,
   "id": "68225b23-82f7-4312-9280-791ee146d8d7",
   "metadata": {},
   "outputs": [],
   "source": [
    "!aws configure set aws_access_key_id $aws_access_key_id\n",
    "!aws configure set aws_secret_access_key $aws_secret_access_key\n"
   ]
  },
  {
   "cell_type": "markdown",
   "id": "85a60663-4d6d-46c0-9ec5-04bfb91e5e24",
   "metadata": {},
   "source": [
    "## Upload file to the FSxN Private S3 Bucket\n"
   ]
  },
  {
   "cell_type": "code",
   "execution_count": null,
   "id": "ecf0633d-ba4f-45ca-b3d5-787ec0e29b8a",
   "metadata": {},
   "outputs": [],
   "source": [
    "%%capture\n",
    "local_file_path: str = <Your local file path>\n",
    "\n",
    "!aws s3 cp --endpoint-url http://$fsx_endpoint_ip /home/ec2-user/SageMaker/$local_file_path  s3://$bucket_name/$local_file_path\n"
   ]
  },
  {
   "cell_type": "markdown",
   "id": "b650ece9-b384-40e8-8a02-38004f89e728",
   "metadata": {},
   "source": [
    "# Read data from FSxN Private S3 bucket\n"
   ]
  },
  {
   "cell_type": "markdown",
   "id": "f423ac40-031d-4b40-ab8d-8873429ce8e5",
   "metadata": {},
   "source": [
    "## Initialize a s3 resource client\n"
   ]
  },
  {
   "cell_type": "code",
   "execution_count": null,
   "id": "0310f09a-840f-4246-9267-f695dc0843c9",
   "metadata": {},
   "outputs": [],
   "source": [
    "import boto3\n",
    "\n",
    "# Get session info\n",
    "region_name = boto3.session.Session().region_name\n",
    "\n",
    "# Initialize Fsxn S3 bucket object\n",
    "# --- Start integrating SageMaker with FSXN ---\n",
    "# This is the only code change we need to incorporate SageMaker with FSXN\n",
    "s3_client: boto3.client = boto3.resource(\n",
    "    's3',\n",
    "    region_name=region_name,\n",
    "    aws_access_key_id=aws_access_key_id,\n",
    "    aws_secret_access_key=aws_secret_access_key,\n",
    "    use_ssl=False,\n",
    "    endpoint_url=f'http://{fsx_endpoint_ip}',\n",
    "    config=boto3.session.Config(\n",
    "        signature_version='s3v4',\n",
    "        s3={'addressing_style': 'path'}\n",
    "    )\n",
    ")\n",
    "# --- End integrating SageMaker with FSXN ---\n"
   ]
  },
  {
   "cell_type": "markdown",
   "id": "5dd2f919-0faf-4156-ba8b-4c422008ed20",
   "metadata": {},
   "source": [
    "## Read file byte content\n"
   ]
  },
  {
   "cell_type": "code",
   "execution_count": null,
   "id": "7d187fa2-5eec-43bb-a2a4-45c1cc1caab9",
   "metadata": {},
   "outputs": [],
   "source": [
    "bucket = s3_client.Bucket(bucket_name)\n",
    "\n",
    "binary_data = bucket.Object(data.filename).get()['Body']\n"
   ]
  }
 ],
 "metadata": {
  "kernelspec": {
   "display_name": "conda_python3",
   "language": "python",
   "name": "conda_python3"
  },
  "language_info": {
   "codemirror_mode": {
    "name": "ipython",
    "version": 3
   },
   "file_extension": ".py",
   "mimetype": "text/x-python",
   "name": "python",
   "nbconvert_exporter": "python",
   "pygments_lexer": "ipython3",
   "version": "3.10.12"
  }
 },
 "nbformat": 4,
 "nbformat_minor": 5
}
